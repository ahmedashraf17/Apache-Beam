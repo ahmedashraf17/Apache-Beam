{
 "cells": [
  {
   "cell_type": "markdown",
   "id": "47a8fa11",
   "metadata": {},
   "source": [
    "### Apache Beam is an open source, unified model for defining both batch and streaming-data parallel-processing pipelines.  Using Apache Beam SDKs you build a program that defines the pipeline and run it on any execution engine"
   ]
  },
  {
   "cell_type": "code",
   "execution_count": null,
   "id": "8671dd23",
   "metadata": {},
   "outputs": [],
   "source": [
    "\n",
    "import argparse # to create a program through command-line environment\n",
    "\n",
    "from typing import List, Tuple\n",
    "\n",
    "import apache_beam as beam\n",
    "from apache_beam import PCollection\n",
    "from apache_beam.options.pipeline_options import PipelineOptions \n",
    "\n",
    "\n",
    "def main():\n",
    "    parser = argparse.ArgumentParser()\n",
    "    parser.add_argument(\"--input-location\", required=True)\n",
    "    parser.add_argument(\"--output-location\", required=True)\n",
    "    parser.add_argument(\"--num-of-words\", default=1000, required=False)\n",
    "\n",
    "    my_args, beam_args = parser.parse_known_args()\n",
    "    run_pipeline(my_args, beam_args)\n",
    "\n",
    "\n",
    "def processed_word(word: str) -> str:\n",
    "    word = word.lower()\n",
    "    word = word.replace(\",\", \"\").replace(\".\", \"\")\n",
    "    return word\n",
    "\n",
    "\n",
    "def prettify(tl: List[Tuple[str, int]]) -> str:\n",
    "    pretty_str = \"\"\n",
    "    for t in tl:\n",
    "        pretty_str += f\"{t[0]},{t[1]}\\n\"\n",
    "    return pretty_str\n",
    "\n",
    "\n",
    "def run_pipeline(custom_args, beam_args):\n",
    "    opts = PipelineOptions(beam_args)     # configure the pipeline to create a custom configuration\n",
    "\n",
    "    input_location = custom_args.input_location\n",
    "    output_location = custom_args.output_location\n",
    "    num_words = custom_args.num_of_words\n",
    "\n",
    "    with beam.pipeline.Pipeline(options=opts) as p:  # create the pipeline\n",
    "        # Reading the data\n",
    "        lines: PCollection[str] = p | \"Reading input data\" >> beam.io.ReadFromText(file_pattern=input_location)\n",
    "        # output\n",
    "        # \"En un lugar de la Mancha\", \"cuyo nombre...\", \"another sentence\", ...\n",
    "        words: PCollection[str] = lines | \"Split words\" >> beam.FlatMap(lambda line: line.split())\n",
    "\n",
    "        # \"En\", \"un\", \"lugar\", ..., \"en\"\n",
    "        transformed: PCollection[str] = words | \"transform words\" >> beam.Map(processed_word)\n",
    "        # \"en\", \"un\", \"lugar\", ..., \"en\"\n",
    "\n",
    "        counted: PCollection[Tuple[str, int]] = transformed | \"Count\" >> beam.combiners.Count.PerElement()\n",
    "\n",
    "        ranked: PCollection[List[Tuple[str, int]]] = counted | \"Rank\" >> beam.combiners.Top.Of(num_words,\n",
    "                                                                                               key=lambda t: t[1])\n",
    "\n",
    "        prettied: PCollection[str] = ranked | \"awesome print\" >> beam.Map(prettify)\n",
    "        prettied | \"Write output\" >> beam.io.WriteToText(output_location)\n",
    "\n",
    "\n",
    "if __name__ == '__main__':\n",
    "    # Run this script in the shell \n",
    "    # python Beam_Pipeline_wc.ipynb --runner=DirectRunner --input-location=./data/el_quijote.txt --output-location=out/word_count.csv\n",
    "    main()"
   ]
  }
 ],
 "metadata": {
  "kernelspec": {
   "display_name": "Python 3 (ipykernel)",
   "language": "python",
   "name": "python3"
  },
  "language_info": {
   "codemirror_mode": {
    "name": "ipython",
    "version": 3
   },
   "file_extension": ".py",
   "mimetype": "text/x-python",
   "name": "python",
   "nbconvert_exporter": "python",
   "pygments_lexer": "ipython3",
   "version": "3.9.7"
  }
 },
 "nbformat": 4,
 "nbformat_minor": 5
}
